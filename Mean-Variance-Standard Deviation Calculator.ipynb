{
 "cells": [
  {
   "cell_type": "code",
   "execution_count": 47,
   "id": "c7b54840",
   "metadata": {},
   "outputs": [
    {
     "name": "stdout",
     "output_type": "stream",
     "text": [
      "{'mean': [[1.0, 4.0, 7.0], [3.0, 4.0, 5.0], 4.0], 'variance': [[0.6666666666666666, 0.6666666666666666, 0.6666666666666666], [6.0, 6.0, 6.0], 6.666666666666667], 'standard deviation': [[0.816496580927726, 0.816496580927726, 0.816496580927726], [2.449489742783178, 2.449489742783178, 2.449489742783178], 2.581988897471611], 'max': [[2, 5, 8], [6, 7, 8], 8], 'min': [[0, 3, 6], [0, 1, 2], 0], 'sum': [[3, 12, 21], [9, 12, 15], 36]}\n"
     ]
    }
   ],
   "source": [
    "import numpy as np\n",
    "\n",
    "def calculate(list_input):\n",
    "    if len(list_input) != 9:\n",
    "        raise ValueError(\"List must contain nine numbers.\")\n",
    "    \n",
    "    arr = np.array(list_input).reshape(3,3)\n",
    "    \n",
    "    \n",
    "    metrics = {\n",
    "        'mean': np.mean,\n",
    "        'variance': np.var,\n",
    "        'standard deviation': np.std,\n",
    "        'max': np.max,\n",
    "        'min': np.min,\n",
    "        'sum': np.sum\n",
    "    }\n",
    "    \n",
    "    calculations = {}\n",
    "    \n",
    "    for key, func in metrics.items():\n",
    "        \n",
    "        calculations[key] = [\n",
    "            func(arr, axis=1).tolist(),\n",
    "            func(arr, axis=0).tolist(),\n",
    "            func(arr).tolist()\n",
    "        ]\n",
    "    \n",
    "    return calculations\n",
    "\n",
    "result = calculate([0,1,2,3,4,5,6,7,8])\n",
    "print(result)\n"
   ]
  }
 ],
 "metadata": {
  "kernelspec": {
   "display_name": "base",
   "language": "python",
   "name": "python3"
  },
  "language_info": {
   "codemirror_mode": {
    "name": "ipython",
    "version": 3
   },
   "file_extension": ".py",
   "mimetype": "text/x-python",
   "name": "python",
   "nbconvert_exporter": "python",
   "pygments_lexer": "ipython3",
   "version": "3.12.4"
  }
 },
 "nbformat": 4,
 "nbformat_minor": 5
}
